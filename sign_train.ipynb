{
  "cells": [
    {
      "cell_type": "code",
      "execution_count": 8,
      "metadata": {
        "colab": {
          "base_uri": "https://localhost:8080/"
        },
        "id": "Xsii8tYIcTm0",
        "outputId": "293356e4-b92a-4c47-db90-a52f5c1c69ba"
      },
      "outputs": [],
      "source": [
        "# from google.colab import drive\n",
        "# drive.mount(\"/content/drive/\", force_remount=True)"
      ]
    },
    {
      "cell_type": "code",
      "execution_count": 9,
      "metadata": {
        "id": "ZQMNXmQQftrm"
      },
      "outputs": [],
      "source": [
        "# import zipfile\n",
        "\n",
        "# with zipfile.ZipFile(\"./drive/MyDrive/data.zip\") as f:\n",
        "#   f.extractall(\"\")"
      ]
    },
    {
      "cell_type": "code",
      "execution_count": 10,
      "metadata": {
        "colab": {
          "base_uri": "https://localhost:8080/"
        },
        "id": "nJB-zUx9f4zT",
        "outputId": "a0a119de-1709-4b30-ff90-e2fee981c1bf"
      },
      "outputs": [
        {
          "name": "stdout",
          "output_type": "stream",
          "text": [
            "310074\n",
            "['A', 'B', 'C', 'D', 'E', 'F', 'G', 'H', 'I', 'J', 'K', 'L', 'M', 'N', 'O', 'P', 'Q', 'R', 'S', 'T', 'U', 'V', 'W', 'X', 'Y', 'Z', 'del', 'nothing', 'space']\n",
            "torch.Size([3, 128, 128])\n"
          ]
        }
      ],
      "source": [
        "from torchvision.datasets import ImageFolder\n",
        "from torchvision.transforms import ToTensor,Resize,Compose\n",
        "from torch.utils.data.dataloader import DataLoader\n",
        "from tqdm import tqdm\n",
        "\n",
        "root = \"./\"\n",
        "BATCH_SIZE = 300\n",
        "\n",
        "train_ds = ImageFolder(root+\"asl_train\", Compose([Resize(128),ToTensor()]))\n",
        "train_dl = DataLoader(train_ds, BATCH_SIZE, shuffle=True, pin_memory=True)\n",
        "\n",
        "val_ds = ImageFolder(root+\"asl_train\", Compose([Resize(128),ToTensor()]))\n",
        "val_dl = DataLoader(val_ds, 49, pin_memory=True)\n",
        "\n",
        "print(len(train_ds))\n",
        "img_cls = train_ds.classes \n",
        "\n",
        "CLS_SIZE = len(img_cls)\n",
        "\n",
        "print(img_cls)\n",
        "print(train_ds[0][0].shape)"
      ]
    },
    {
      "cell_type": "code",
      "execution_count": 11,
      "metadata": {
        "colab": {
          "base_uri": "https://localhost:8080/"
        },
        "id": "Acrledw1gNe4",
        "outputId": "b9261ba6-6a11-4677-9aeb-cbfcf2442536"
      },
      "outputs": [
        {
          "name": "stdout",
          "output_type": "stream",
          "text": [
            "cuda\n"
          ]
        }
      ],
      "source": [
        "import torch\n",
        "\n",
        "device = torch.device(\"cuda\" if torch.cuda.is_available() else \"cpu\")\n",
        "print(device)\n",
        "\n",
        "torch.cuda.empty_cache()"
      ]
    },
    {
      "cell_type": "code",
      "execution_count": 12,
      "metadata": {
        "id": "mxud0D_DgOyq"
      },
      "outputs": [],
      "source": [
        "import torch.nn as nn\n",
        "\n",
        "\n",
        "class Model(nn.Module):\n",
        "    def __init__(self):\n",
        "        super().__init__()\n",
        "\n",
        "        self.network = nn.Sequential(\n",
        "            # 3 128\n",
        "            nn.Conv2d(3, 32, kernel_size=3, stride=1, padding=1),\n",
        "            nn.ReLU(),\n",
        "            nn.MaxPool2d(2, 2),\n",
        "            # 32 64\n",
        "            nn.Conv2d(32, 64, kernel_size=3, stride=1, padding=1),\n",
        "            nn.MaxPool2d(2, 2),\n",
        "            # 64 32\n",
        "            nn.Conv2d(64, 128, kernel_size=3, stride=1, padding=1),\n",
        "            nn.ReLU(),\n",
        "            nn.MaxPool2d(2, 2),\n",
        "            # 128 16\n",
        "            nn.Conv2d(128, 128, kernel_size=3, stride=1, padding=1),\n",
        "            nn.MaxPool2d(2, 2),\n",
        "            # 128 8\n",
        "            nn.Conv2d(128, 256, kernel_size=3, stride=1, padding=1),\n",
        "            nn.ReLU(),\n",
        "            nn.MaxPool2d(2, 2),\n",
        "\n",
        "            # 256 4\n",
        "            nn.Conv2d(256, 256, kernel_size=3, stride=1, padding=1),\n",
        "            nn.MaxPool2d(2, 2),\n",
        "            # 256 2\n",
        "\n",
        "            nn.Flatten(),\n",
        "            # 256*2*2\n",
        "            nn.Linear(256 * 2 * 2, 128),\n",
        "            nn.ReLU(),\n",
        "            # 128\n",
        "            nn.Linear(128, 29)\n",
        "            # 26\n",
        "        )\n",
        "\n",
        "    def forward(self, inputs):\n",
        "\n",
        "        out = self.network(inputs)\n",
        "        # return torch.softmax(out, dim=-1)\n",
        "        return out"
      ]
    },
    {
      "cell_type": "code",
      "execution_count": 13,
      "metadata": {
        "id": "A0P2GPRAgSIo"
      },
      "outputs": [],
      "source": [
        "sign_model = Model().to(device)\n",
        "# loss_fn = nn.BCELoss()\n",
        "loss_fn = nn.CrossEntropyLoss()\n",
        "opt = torch.optim.Adam(sign_model.parameters(),lr=0.001)"
      ]
    },
    {
      "cell_type": "code",
      "execution_count": 15,
      "metadata": {
        "colab": {
          "base_uri": "https://localhost:8080/"
        },
        "id": "DAJscFM8gVtb",
        "outputId": "deb1ae47-2fc0-454e-d0ad-1d5ea1dbe827"
      },
      "outputs": [
        {
          "name": "stdout",
          "output_type": "stream",
          "text": [
            "Epoch:  1\n"
          ]
        },
        {
          "name": "stderr",
          "output_type": "stream",
          "text": [
            " 32%|███▏      | 331/1034 [09:10<19:29,  1.66s/it]  \n"
          ]
        },
        {
          "ename": "KeyboardInterrupt",
          "evalue": "",
          "output_type": "error",
          "traceback": [
            "\u001b[1;31m---------------------------------------------------------------------------\u001b[0m",
            "\u001b[1;31mKeyboardInterrupt\u001b[0m                         Traceback (most recent call last)",
            "Cell \u001b[1;32mIn[15], line 16\u001b[0m\n\u001b[0;32m     13\u001b[0m     \u001b[38;5;28;01mfor\u001b[39;00m i \u001b[38;5;129;01min\u001b[39;00m \u001b[38;5;28mrange\u001b[39m(\u001b[38;5;28mlen\u001b[39m(labels)):\n\u001b[0;32m     14\u001b[0m         targets[i,labels[i]]\u001b[38;5;241m=\u001b[39m\u001b[38;5;241m1\u001b[39m\n\u001b[1;32m---> 16\u001b[0m loss \u001b[38;5;241m=\u001b[39m loss_fn(preds\u001b[38;5;241m.\u001b[39mto(device), \u001b[43mtargets\u001b[49m\u001b[38;5;241;43m.\u001b[39;49m\u001b[43mto\u001b[49m\u001b[43m(\u001b[49m\u001b[43mdevice\u001b[49m\u001b[43m)\u001b[49m)\n\u001b[0;32m     17\u001b[0m loss\u001b[38;5;241m.\u001b[39mbackward()\n\u001b[0;32m     19\u001b[0m \u001b[38;5;66;03m# check if the predicted class is correct compared to target, if it is then increment correct\u001b[39;00m\n",
            "\u001b[1;31mKeyboardInterrupt\u001b[0m: "
          ]
        }
      ],
      "source": [
        "epochs = 10\n",
        "\n",
        "for epoch in range(epochs):\n",
        "    print(\"Epoch: \",epoch+1)\n",
        "    correct = 0\n",
        "\n",
        "    for images,labels in tqdm(train_dl):\n",
        "\n",
        "        preds = sign_model(images.to(device))\n",
        "        targets = torch.zeros(len(labels),CLS_SIZE, dtype=torch.float32)\n",
        "        \n",
        "        with torch.no_grad():\n",
        "            for i in range(len(labels)):\n",
        "                targets[i,labels[i]]=1\n",
        "\n",
        "        loss = loss_fn(preds.to(device), targets.to(device))\n",
        "        loss.backward()\n",
        "\n",
        "        # check if the predicted class is correct compared to target, if it is then increment correct\n",
        "        for i in range(len(labels)):\n",
        "            if torch.argmax(preds[i]) == labels[i]:\n",
        "                correct += 1\n",
        "        \n",
        "        opt.step()\n",
        "        opt.zero_grad()\n",
        "\n",
        "    print(\"Loss: \",round(loss.item(),6))\n",
        "\n",
        "    accuracy = round(100*(correct/len(train_ds)), 2)\n",
        "    print(f\"Accuracy : {accuracy}%\")\n",
        "\n",
        "    torch.save(sign_model.state_dict(), f\"sign_model_{round(accuracy)}.pth\")"
      ]
    },
    {
      "cell_type": "code",
      "execution_count": null,
      "metadata": {},
      "outputs": [],
      "source": [
        "# code to reload the last saved model and then test it on the validation "
      ]
    }
  ],
  "metadata": {
    "accelerator": "GPU",
    "colab": {
      "name": "sign.ipynb",
      "provenance": []
    },
    "kernelspec": {
      "display_name": "Python 3.8.10 64-bit",
      "language": "python",
      "name": "python3"
    },
    "language_info": {
      "codemirror_mode": {
        "name": "ipython",
        "version": 3
      },
      "file_extension": ".py",
      "mimetype": "text/x-python",
      "name": "python",
      "nbconvert_exporter": "python",
      "pygments_lexer": "ipython3",
      "version": "3.11.6"
    },
    "vscode": {
      "interpreter": {
        "hash": "916dbcbb3f70747c44a77c7bcd40155683ae19c65e1c03b4aa3499c5328201f1"
      }
    }
  },
  "nbformat": 4,
  "nbformat_minor": 0
}
